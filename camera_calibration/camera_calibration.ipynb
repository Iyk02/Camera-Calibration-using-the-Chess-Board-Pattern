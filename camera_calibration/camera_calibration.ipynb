{
 "cells": [
  {
   "cell_type": "markdown",
   "metadata": {},
   "source": [
    "# Task 2\n",
    "## To calibrate a camera using the chessboard pattern\n",
    "## Obtain the intrinsic and extrinsic parameters and store them"
   ]
  },
  {
   "cell_type": "code",
   "execution_count": 1,
   "metadata": {},
   "outputs": [],
   "source": [
    "# Importing the necessary libraries\n",
    "import numpy as np\n",
    "import cv2 as cv\n",
    "import glob"
   ]
  },
  {
   "cell_type": "code",
   "execution_count": 2,
   "metadata": {},
   "outputs": [],
   "source": [
    "# termination criteria\n",
    "# 50 iterations with minimum accuracy being 0.001\n",
    "criteria = (cv.TERM_CRITERIA_EPS + cv.TERM_CRITERIA_MAX_ITER, 50, 0.001)"
   ]
  },
  {
   "cell_type": "code",
   "execution_count": 3,
   "metadata": {},
   "outputs": [],
   "source": [
    "# Assumed random object points in the form (x,y,z) where z = 0\n",
    "objp = np.zeros((6*7,3), np.float32)\n",
    "objp[:,:2] = np.mgrid[0:7,0:6].T.reshape(-1,2)"
   ]
  },
  {
   "cell_type": "code",
   "execution_count": 4,
   "metadata": {},
   "outputs": [
    {
     "name": "stdout",
     "output_type": "stream",
     "text": [
      "Number of images used = 30\n"
     ]
    }
   ],
   "source": [
    "# List to store object points and image points from all the images.\n",
    "objpoints = [] # 3d point in real world space\n",
    "imgpoints = [] # 2d points in image plane.\n",
    "\n",
    "images = glob.glob('*.jpg')\n",
    "print('Number of images used =', len(images))"
   ]
  },
  {
   "cell_type": "code",
   "execution_count": 5,
   "metadata": {},
   "outputs": [],
   "source": [
    "for fname in images:\n",
    "    img = cv.imread(fname)\n",
    "    gray = cv.cvtColor(img, cv.COLOR_BGR2GRAY)\n",
    "    \n",
    "    # Find the chess board corners\n",
    "    # ret stands for return value\n",
    "    # Size of chessboard 7x6\n",
    "    ret, corners = cv.findChessboardCorners(gray, (7,6), None)\n",
    "    \n",
    "    # Adding the object points, image points after checking the below condition\n",
    "    if ret == True:\n",
    "        objpoints.append(objp)\n",
    "        \n",
    "        corners2 = cv.cornerSubPix(gray,corners, (11,11), (-1,-1), criteria)\n",
    "        imgpoints.append(corners)\n",
    "        \n",
    "        # Draw and display the corners\n",
    "        cv.drawChessboardCorners(img, (7,6), corners2, ret)\n",
    "        cv.imshow('img', img)\n",
    "        cv.waitKey(500)\n",
    "        \n",
    "cv.destroyAllWindows()"
   ]
  },
  {
   "cell_type": "code",
   "execution_count": 6,
   "metadata": {},
   "outputs": [],
   "source": [
    "# The code below returns\n",
    "# Camera matrix\n",
    "# Distortion coefficients\n",
    "# Rotation vector\n",
    "# Translation vector\n",
    "ret, cmtx, dist, rot, trans = cv.calibrateCamera(objpoints, imgpoints, gray.shape[::-1], None, None)"
   ]
  },
  {
   "cell_type": "code",
   "execution_count": 7,
   "metadata": {},
   "outputs": [
    {
     "name": "stdout",
     "output_type": "stream",
     "text": [
      "Camera matrix:\n"
     ]
    },
    {
     "data": {
      "text/plain": [
       "array([[536.33176705,   0.        , 334.38878917],\n",
       "       [  0.        , 536.57448275, 239.67290167],\n",
       "       [  0.        ,   0.        ,   1.        ]])"
      ]
     },
     "execution_count": 7,
     "metadata": {},
     "output_type": "execute_result"
    }
   ],
   "source": [
    "print('Camera matrix:')\n",
    "cmtx"
   ]
  },
  {
   "attachments": {
    "image.png": {
     "image/png": "[encoded data removed]"
    }
   },
   "cell_type": "markdown",
   "metadata": {},
   "source": [
    "### Intrinsic parameters include: focal length, optical center, and skew coefficient and this is obtained from the camera matrix given by:\n",
    "![image.png](attachment:image.png)"
   ]
  },
  {
   "cell_type": "markdown",
   "metadata": {},
   "source": [
    "### By comparing the camera matrix above with cmtx we obtain:\n",
    "\n",
    "### focal length = (536.33, 536.57)\n",
    "\n",
    "### optical center (or principal point) = (334.39, 239.67)\n",
    "\n",
    "### skew coefficient = 0"
   ]
  },
  {
   "cell_type": "markdown",
   "metadata": {},
   "source": [
    "### The extrinsic parameters include the: rotation and translation vectors represented as rot and trans in the code above"
   ]
  },
  {
   "cell_type": "code",
   "execution_count": 8,
   "metadata": {
    "scrolled": true
   },
   "outputs": [
    {
     "name": "stdout",
     "output_type": "stream",
     "text": [
      "Rotation vectors:\n"
     ]
    },
    {
     "data": {
      "text/plain": [
       "[array([[-0.44973691],\n",
       "        [ 0.2709551 ],\n",
       "        [-3.08364428]]),\n",
       " array([[ 0.41744036],\n",
       "        [ 0.6759187 ],\n",
       "        [-1.33777932]]),\n",
       " array([[-0.27889342],\n",
       "        [-0.37848891],\n",
       "        [-2.74592795]]),\n",
       " array([[-0.3963507],\n",
       "        [-0.1662443],\n",
       "        [-3.1123603]]),\n",
       " array([[-0.46399784],\n",
       "        [-0.29624745],\n",
       "        [-1.75838963]])]"
      ]
     },
     "execution_count": 8,
     "metadata": {},
     "output_type": "execute_result"
    }
   ],
   "source": [
    "# First 5 rotation vectors of the camera\n",
    "print('Rotation vectors:') \n",
    "rot[:5]"
   ]
  },
  {
   "cell_type": "code",
   "execution_count": 9,
   "metadata": {},
   "outputs": [
    {
     "name": "stdout",
     "output_type": "stream",
     "text": [
      "Translation vectors:\n"
     ]
    },
    {
     "data": {
      "text/plain": [
       "[array([[ 3.99830824],\n",
       "        [ 0.71076986],\n",
       "        [14.88922465]]),\n",
       " array([[-1.9516727 ],\n",
       "        [ 1.68386156],\n",
       "        [12.9020276 ]]),\n",
       " array([[3.17159619],\n",
       "        [2.61610723],\n",
       "        [9.92260419]]),\n",
       " array([[ 2.97145895],\n",
       "        [ 2.08336624],\n",
       "        [10.98783069]]),\n",
       " array([[-1.0103406 ],\n",
       "        [ 2.55030361],\n",
       "        [ 9.63709404]])]"
      ]
     },
     "execution_count": 9,
     "metadata": {},
     "output_type": "execute_result"
    }
   ],
   "source": [
    "# First 5 translation vectors of the camera\n",
    "print('Translation vectors:')\n",
    "trans[:5]"
   ]
  }
 ],
 "metadata": {
  "kernelspec": {
   "display_name": "Python 3",
   "language": "python",
   "name": "python3"
  },
  "language_info": {
   "codemirror_mode": {
    "name": "ipython",
    "version": 3
   },
   "file_extension": ".py",
   "mimetype": "text/x-python",
   "name": "python",
   "nbconvert_exporter": "python",
   "pygments_lexer": "ipython3",
   "version": "3.7.6"
  }
 },
 "nbformat": 4,
 "nbformat_minor": 4
}
